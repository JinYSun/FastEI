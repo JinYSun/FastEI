{
 "cells": [
  {
   "cell_type": "code",
   "execution_count": 1,
   "metadata": {},
   "outputs": [],
   "source": [
    "import numpy as np\n",
    "import pandas as pd\n",
    "\n",
    "\n",
    "def read_jdx_to_csv(file):\n",
    "    with open(file) as jdx:\n",
    "        lines = jdx.readlines()\n",
    "    spectrum_list = []\n",
    "    mz, inten = [], []\n",
    "    for l in lines:\n",
    "        l = l.replace('\\n', '')\n",
    "    \n",
    "        if l.startswith('##PAGE'):\n",
    "            page = l.split(' ')[-1].replace('=','_').replace('.', '_')\n",
    "        \n",
    "        if not l.startswith('##'):\n",
    "            data = [k for k in l.replace(' ', '').split(',') if k != '']\n",
    "            if len(data) % 2 == 1:\n",
    "                raise ValueError('the peaks are not paired')\n",
    "            else:\n",
    "                n = int(len(data) / 2)\n",
    "                mz += [float(data[k]) for k in np.arange(n) * 2]\n",
    "                inten += [float(data[k]) for k in np.arange(n) * 2 + 1]\n",
    "\n",
    "        if l.startswith('##') and len(mz) > 0:\n",
    "            df = pd.DataFrame({\"m/z\" : np.array(mz), \"Relative Intensity\" : np.array(inten) / np.max(inten)})\n",
    "            df.to_csv('query_spectra/{}.csv'.format(page), index = False, header = False)\n",
    "            mz, inten = [], []\n",
    "        \n",
    "\n",
    "def read_msp_to_csv(file):\n",
    "    with open(file) as msp:\n",
    "        lines = msp.readlines()\n",
    "\n",
    "    spectrum_list = []\n",
    "    mz, inten = [], []\n",
    "    for l in lines:\n",
    "        l = l.replace('\\n', '')\n",
    "        l = l.lower()\n",
    "    \n",
    "        if l == '':\n",
    "            continue\n",
    "    \n",
    "        if l.startswith('name:'):\n",
    "            mz, inten = [], []\n",
    "            name = l.split(': ')[-1]\n",
    "        \n",
    "        if l.startswith('num peaks:'):\n",
    "            n_peaks = int(l.split(': ')[-1])\n",
    "        \n",
    "        if ':' not in l:\n",
    "            mz.append(float(l.split(' ')[0]))\n",
    "            inten.append(float(l.split(' ')[1]))\n",
    "    \n",
    "        if len(mz) > 0:\n",
    "            if len(mz) == n_peaks:\n",
    "                df = pd.DataFrame({\"m/z\" : np.array(mz), \"Relative Intensity\" : np.array(inten) / np.max(inten)})\n",
    "                df.to_csv('query_spectra/{}.csv'.format(name), index = False, header = False)\n",
    "def read_txt_to_csv(file):\n",
    "    with open(file, \"r\") as txt:\n",
    "        data = [] \n",
    "        mz=[]\n",
    "        inten=[]\n",
    "        name='example'\n",
    "        for line in txt:        \n",
    "            data.append(line.rstrip())\n",
    "        for j in range(len(data)):\n",
    "            if data[j]=='m/z\tAbsolute Intensity\tRelative Intensity':\n",
    "                index=j\n",
    "            else:\n",
    "                pass\n",
    "            #num=data[i][10:]\n",
    "        for k in range(index+1,len(data)):\n",
    "            mz.append(float(round(float(data[k].split('\\t')[0]))))\n",
    "            inten.append(float(data[k].split('\\t')[2]))\n",
    "        df={\"m/z\" : mz,\"Relative Intensity\" :inten}\n",
    "        df=pd.DataFrame(df)\n",
    "        df.to_csv('query_spectra/{}.csv'.format(name), index = False, header = False)"
   ]
  },
  {
   "cell_type": "code",
   "execution_count": 2,
   "metadata": {},
   "outputs": [],
   "source": [
    "file=\"example.jdx\"\n",
    "read_jdx_to_csv(file)"
   ]
  },
  {
   "cell_type": "code",
   "execution_count": 3,
   "metadata": {},
   "outputs": [],
   "source": [
    "file=\"example.msp\"\n",
    "read_msp_to_csv(file)"
   ]
  },
  {
   "cell_type": "code",
   "execution_count": 4,
   "metadata": {},
   "outputs": [],
   "source": [
    "file=\"example.txt\"\n",
    "read_txt_to_csv(file)"
   ]
  },
  {
   "cell_type": "code",
   "execution_count": null,
   "metadata": {},
   "outputs": [],
   "source": []
  }
 ],
 "metadata": {
  "kernelspec": {
   "display_name": "Python 3",
   "language": "python",
   "name": "python3"
  },
  "language_info": {
   "codemirror_mode": {
    "name": "ipython",
    "version": 3
   },
   "file_extension": ".py",
   "mimetype": "text/x-python",
   "name": "python",
   "nbconvert_exporter": "python",
   "pygments_lexer": "ipython3",
   "version": "3.7.6"
  }
 },
 "nbformat": 4,
 "nbformat_minor": 4
}
