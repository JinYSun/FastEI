{
 "cells": [
  {
   "cell_type": "code",
   "execution_count": 1,
   "id": "69c98985",
   "metadata": {},
   "outputs": [
    {
     "name": "stderr",
     "output_type": "stream",
     "text": [
      "100%|████████████████████████████████████████████████████████████████████████| 148505/148505 [00:59<00:00, 2480.19it/s]"
     ]
    },
    {
     "name": "stdout",
     "output_type": "stream",
     "text": [
      "The number of unique molecules that have LC-MS-MS inside the MoNA library: 15012\n",
      "The average number of LC-MS-MS that a molecule has inside the MoNA library: 10.0\n"
     ]
    },
    {
     "name": "stderr",
     "output_type": "stream",
     "text": [
      "\n"
     ]
    }
   ],
   "source": [
    "#load library\n",
    "from matchms.importing import load_from_mgf,load_from_msp\n",
    "from tqdm import tqdm\n",
    "#load MoNA LC-MS-MS data\n",
    "mb_na = list(load_from_msp('C:/Users/yang/MoNA-export-LC-MS-MS_Spectra-msp/MoNA-export-LC-MS-MS_Spectra.msp',metadata_harmonization=False))\n",
    "#extract SMILES\n",
    "smiles=[]\n",
    "for spec in tqdm(mb_na):\n",
    "    try:\n",
    "        smiles.append( spec.metadata['computed_smiles'])\n",
    "    except KeyError:\n",
    "        pass\n",
    "#get unique SMILES\n",
    "u_smiles=list(set(smiles))\n",
    "print('The number of unique molecules that have LC-MS-MS inside the MoNA library:', len(u_smiles))\n",
    "#get the average number of LC-MS that a molecule has inside the MoNA library\n",
    "from collections import Counter\n",
    "result = Counter(smiles)        \n",
    "#result.most_common(3)\n",
    "sum(result.values())/len(result) \n",
    "print('The average number of LC-MS-MS that a molecule has inside the MoNA library:', round(sum(result.values())/len(result),0 ))"
   ]
  },
  {
   "cell_type": "code",
   "execution_count": 2,
   "id": "7b48975f",
   "metadata": {},
   "outputs": [
    {
     "name": "stderr",
     "output_type": "stream",
     "text": [
      "100%|██████████████████████████████████████████████████████████████████████████| 18902/18902 [00:04<00:00, 4703.08it/s]\n"
     ]
    },
    {
     "name": "stdout",
     "output_type": "stream",
     "text": [
      "The number of unique molecules that have GC-MS inside the MoNA library: 9299\n",
      "The average number of GC-MS that a molecule has inside the MoNA library: 2.0\n"
     ]
    }
   ],
   "source": [
    "#load library\n",
    "from matchms.importing import load_from_mgf,load_from_msp\n",
    "from tqdm import tqdm\n",
    "#load MoNA GC-MS data\n",
    "mb_na = list(load_from_msp('C:/Users/yang/MoNA-export-GC-MS_Spectra-msp/MoNA-export-GC-MS_Spectra.msp',metadata_harmonization=False))\n",
    "#extract SMILES\n",
    "smiles=[]\n",
    "for spec in tqdm(mb_na):\n",
    "    try:\n",
    "        smiles.append( spec.metadata['computed_smiles'])\n",
    "    except KeyError:\n",
    "        pass\n",
    "#get unique SMILES\n",
    "u_smiles=list(set(smiles))\n",
    "print('The number of unique molecules that have GC-MS inside the MoNA library:', len(u_smiles))\n",
    "from collections import Counter\n",
    "#get the average number of GC-MS that a molecule has inside the MoNA library\n",
    "result = Counter(smiles)        \n",
    "#result.most_common(3)\n",
    "sum(result.values())/len(result) \n",
    "print('The average number of GC-MS that a molecule has inside the MoNA library:', round(sum(result.values())/len(result),0 ))\n"
   ]
  },
  {
   "cell_type": "code",
   "execution_count": null,
   "id": "aa13fb9d",
   "metadata": {},
   "outputs": [],
   "source": []
  }
 ],
 "metadata": {
  "kernelspec": {
   "display_name": "Python 3 (ipykernel)",
   "language": "python",
   "name": "python3"
  },
  "language_info": {
   "codemirror_mode": {
    "name": "ipython",
    "version": 3
   },
   "file_extension": ".py",
   "mimetype": "text/x-python",
   "name": "python",
   "nbconvert_exporter": "python",
   "pygments_lexer": "ipython3",
   "version": "3.7.11"
  }
 },
 "nbformat": 4,
 "nbformat_minor": 5
}
