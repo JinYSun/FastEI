{
 "cells": [
  {
   "cell_type": "code",
   "execution_count": 1,
   "metadata": {},
   "outputs": [
    {
     "name": "stdout",
     "output_type": "stream",
     "text": [
      "there are 205044 spectrums in MoNA\n"
     ]
    }
   ],
   "source": [
    "from tqdm import tqdm\n",
    "from matchms.importing import load_from_msp\n",
    "import warnings\n",
    "warnings.filterwarnings(\"ignore\")\n",
    "spectrums = [s for s in load_from_msp(\"C:/Users/15362/Downloads/MoNA-export-Experimental_Spectra.msp\")]\n",
    "print('there are {} spectrums in MoNA'.format(len(spectrums)))\n"
   ]
  },
  {
   "cell_type": "code",
   "execution_count": 2,
   "metadata": {},
   "outputs": [
    {
     "name": "stdout",
     "output_type": "stream",
     "text": [
      "there are 158399 spectrums with instrument and spectrum type in MoNA\n"
     ]
    }
   ],
   "source": [
    "spectrums_f = [s for s in spectrums if s.get('instrument_type') is not None]\n",
    "spectrums_f = [s for s in spectrums_f if s.get('spectrum_type') is not None]\n",
    "print('there are {} spectrums with instrument and spectrum type in MoNA'.format(len(spectrums_f)))"
   ]
  },
  {
   "cell_type": "code",
   "execution_count": 3,
   "metadata": {},
   "outputs": [
    {
     "name": "stdout",
     "output_type": "stream",
     "text": [
      "there are 13572 spectrums of EI-MS in MoNA\n",
      "there are 136055 spectrums of ESI-MS/MS in MoNA\n"
     ]
    }
   ],
   "source": [
    "spectrums_ei = [s for s in spectrums_f if 'EI' in s.get('instrument_type')]\n",
    "spectrums_msms = [s for s in spectrums_f if 'MS2' in s.get('spectrum_type')]\n",
    "print('there are {} spectrums of EI-MS in MoNA'.format(len(spectrums_ei)))\n",
    "print('there are {} spectrums of ESI-MS/MS in MoNA'.format(len(spectrums_msms)))"
   ]
  },
  {
   "cell_type": "code",
   "execution_count": 4,
   "metadata": {},
   "outputs": [
    {
     "name": "stdout",
     "output_type": "stream",
     "text": [
      "there are 8814 unique compounds of EI-MS in MoNA\n"
     ]
    }
   ],
   "source": [
    "inchikeys_ei = set(s.get('inchikey') for s in spectrums_ei)\n",
    "inchikeys_ei = set(s[:14] for s in inchikeys_ei if s is not None)\n",
    "print('there are {} unique compounds of EI-MS in MoNA'.format(len(inchikeys_ei)))"
   ]
  },
  {
   "cell_type": "code",
   "execution_count": 5,
   "metadata": {},
   "outputs": [
    {
     "name": "stdout",
     "output_type": "stream",
     "text": [
      "there are 10549 unique compounds of ESI-MS/MS in MoNA\n"
     ]
    }
   ],
   "source": [
    "inchikeys_msms = set(s.get('inchikey') for s in spectrums_msms)\n",
    "inchikeys_msms = set(s[:14] for s in inchikeys_msms if s is not None)\n",
    "print('there are {} unique compounds of ESI-MS/MS in MoNA'.format(len(inchikeys_msms)))\n"
   ]
  },
  {
   "cell_type": "code",
   "execution_count": null,
   "metadata": {},
   "outputs": [],
   "source": []
  }
 ],
 "metadata": {
  "kernelspec": {
   "display_name": "Python 3",
   "language": "python",
   "name": "python3"
  },
  "language_info": {
   "codemirror_mode": {
    "name": "ipython",
    "version": 3
   },
   "file_extension": ".py",
   "mimetype": "text/x-python",
   "name": "python",
   "nbconvert_exporter": "python",
   "pygments_lexer": "ipython3",
   "version": "3.7.6"
  }
 },
 "nbformat": 4,
 "nbformat_minor": 4
}
