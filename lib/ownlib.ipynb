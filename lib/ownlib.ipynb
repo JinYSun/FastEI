{
 "cells": [
  {
   "cell_type": "code",
   "execution_count": 1,
   "metadata": {},
   "outputs": [
    {
     "name": "stderr",
     "output_type": "stream",
     "text": [
      "D:\\ANACONDA\\lib\\site-packages\\gensim\\similarities\\__init__.py:15: UserWarning: The gensim.similarities.levenshtein submodule is disabled, because the optional Levenshtein package <https://pypi.org/project/python-Levenshtein/> is unavailable. Install Levenhstein (e.g. `pip install python-Levenshtein`) to suppress this warning.\n",
      "  warnings.warn(msg)\n"
     ]
    }
   ],
   "source": [
    "#import library\n",
    "import os\n",
    "import numpy as np\n",
    "from rdkit import Chem\n",
    "from tqdm import tqdm\n",
    "import sys\n",
    "sys.path.append(\"..\")\n",
    "from data_process import spec\n",
    "from data_process.spec_to_wordvector import spec_to_wordvector\n",
    "import gensim\n",
    "from rdkit.Chem.Descriptors import ExactMolWt\n"
   ]
  },
  {
   "cell_type": "code",
   "execution_count": 2,
   "metadata": {},
   "outputs": [
    {
     "name": "stderr",
     "output_type": "stream",
     "text": [
      "100%|█████████████████████████████████████████████████████████████████████████| 131145/131145 [03:50<00:00, 569.68it/s]\n"
     ]
    }
   ],
   "source": [
    "#NEIMS predicted EI-MS.sdf to spectra.mgf\n",
    "f = 'collected_compounds_predicted_EI-MS.sdf' \n",
    "suppl = Chem.SDMolSupplier(f)\n",
    "smiles=[]\n",
    "spectrums=[]\n",
    "for j in tqdm(range(len(suppl))):\n",
    "    smi = Chem.MolToSmiles(suppl[j])\n",
    "    smiles.append(smi)\n",
    "    try:\n",
    "        spec_string = suppl[j].GetProp('PREDICTED SPECTRUM')\n",
    "        A=spec_string.split('\\n')\n",
    "        Y=[x.split(' ') for x in A]\n",
    "        W=[[float(x[0]),float(x[1])] for x in Y]\n",
    "        c=np.array(W)\n",
    "        M=np.array([x[0] for x in c])\n",
    "        I=np.array([x[1] for x in c])\n",
    "        I /= max(I)\n",
    "        if max(M)>1000:\n",
    "            continue\n",
    "        else:                \n",
    "            spectrum = spec.Spectrum(mz=M,intensities=I,metadata={'smiles': smi})\n",
    "            spectrums.append(spectrum)\n",
    "\n",
    "    except  KeyError:\n",
    "        continue\n",
    "#spec.save_as_mgf(spectrums, 'predicted_spectra.mgf') "
   ]
  },
  {
   "cell_type": "code",
   "execution_count": 3,
   "metadata": {},
   "outputs": [
    {
     "name": "stderr",
     "output_type": "stream",
     "text": [
      "100%|█████████████████████████████████████████████████████████████████████████| 131145/131145 [02:31<00:00, 867.01it/s]\n"
     ]
    }
   ],
   "source": [
    "#filter\n",
    "def filter_molecules(all_smiles):\n",
    "    a=['Br','I','Cl','S','O','P','N','H','F','C','Si']\n",
    "    logp=[]\n",
    "    masses=[]\n",
    "    log_idx=[]\n",
    "    masses_idx=[]\n",
    "    mol_idx=[]\n",
    "    atom_idx=[]\n",
    "    smiles_idx=[]\n",
    "    from rdkit.Chem.Descriptors import ExactMolWt\n",
    "    from rdkit.Chem import Descriptors\n",
    "    for i in tqdm(range(len(all_smiles))):\n",
    "        if '.' in all_smiles[i]:\n",
    "            smiles_idx.append(i)\n",
    "        \n",
    "        mol = Chem.MolFromSmiles(all_smiles[i])\n",
    "        if mol is None:\n",
    "            mol_idx.append(i)\n",
    "            continue           \n",
    "        else:\n",
    "        \n",
    "            atoms=[a.GetSymbol() for a in mol.GetAtoms()]\n",
    "            ma=ExactMolWt(mol)\n",
    "            masses.append(ma)\n",
    "            if ma>1000:\n",
    "                masses_idx.append(i)\n",
    "            c=Descriptors.MolLogP(mol)\n",
    "            logp.append(c)\n",
    "            if c<-12 or c>24:\n",
    "                log_idx.append(i)\n",
    "            c=list(set(atoms))\n",
    "            for j in c:\n",
    "                if j not in a:\n",
    "                    atom_idx.append(i)\n",
    "                    break\n",
    "                else:\n",
    "                    pass\n",
    "    from collections import defaultdict\n",
    "    d = defaultdict(list)\n",
    "    for k,va in [(v,i) for i,v in enumerate(all_smiles)]:\n",
    "        d[k].append(va)\n",
    "    c=list(d.keys())\n",
    "    nosame_idx=[]\n",
    "    for i in range(len(c)):\n",
    "        s=d[c[i]]\n",
    "        if len(s)>1:\n",
    "            for j in range(len(s)-1):\n",
    "                nosame_idx.append(s[j+1])\n",
    "        else:\n",
    "            pass\n",
    "    ss=masses_idx+log_idx+mol_idx+atom_idx+nosame_idx+smiles_idx\n",
    "    index=list(set(ss))\n",
    "    return index\n",
    "filter_index=filter_molecules(smiles)\n",
    "filter_spectrums=[spectrums[i] for i in range(0,len(spectrums),1) if i not in filter_index]\n",
    "spec.save_as_mgf(filter_spectrums, 'collected_compounds_predicted_spectra.mgf') "
   ]
  },
  {
   "cell_type": "code",
   "execution_count": 4,
   "metadata": {},
   "outputs": [
    {
     "name": "stderr",
     "output_type": "stream",
     "text": [
      "100%|████████████████████████████████████████████████████████████████████████| 128171/128171 [00:27<00:00, 4707.48it/s]\n"
     ]
    }
   ],
   "source": [
    "#build SQLite library\n",
    "mass=[]\n",
    "smiles=[]\n",
    "mzs=[]\n",
    "intensitys=[]\n",
    "ID=[]\n",
    "for i in range(len(filter_spectrums)):\n",
    "    smiles.append(filter_spectrums[i].metadata['smiles'])\n",
    "    mass.append(round(ExactMolWt(Chem.MolFromSmiles(filter_spectrums[i].metadata['smiles'])),3))\n",
    "    ID.append('compound_'+str(i))\n",
    "    s=filter_spectrums[i].peaks.to_np\n",
    "    mz=[]\n",
    "    intensity=[]\n",
    "    for j in range(len(s[:,0])):\n",
    "        mz.append(int(s[:,0][j]))\n",
    "        intensity.append(round(s[:,1][j],5))        \n",
    "    mzs.append(mz)\n",
    "    intensitys.append(intensity)\n",
    "    \n",
    "import json\n",
    "import sqlite3\n",
    "conn = sqlite3.connect('YOUROWN_LIBRARY.db')  \n",
    "c = conn.cursor()\n",
    "c.execute('''CREATE TABLE YOUROWN_LIBRARY\n",
    "      (COMPID TEXT  NOT NULL,\n",
    "      SMILES           TEXT    NOT NULL,\n",
    "      EXACTMOLWT       BLOB NOT NULL,\n",
    "      MZS        BLOB NOT NULL,\n",
    "      INTENSITYS        BLOB NOT NULL);''')\n",
    "conn.commit()\n",
    "conn.close()\n",
    "conn = sqlite3.connect('YOUROWN_LIBRARY.db')\n",
    "c = conn.cursor()\n",
    "for i in tqdm(range(len(ID))):\n",
    "    E=ID[i]\n",
    "    F=smiles[i]\n",
    "    Y=round(mass[i],3)\n",
    "    G1=json.dumps(mzs[i])\n",
    "    G2=json.dumps(intensitys[i])\n",
    "    \n",
    "    #G=json.dumps(file[i])\n",
    "    c.execute(\"INSERT INTO YOUROWN_LIBRARY (COMPID,SMILES,EXACTMOLWT,MZS,INTENSITYS) VALUES (?,?,?,?,?)\", (E,F,Y,G1,G2))\n",
    "conn.commit()\n",
    "conn.close()\n"
   ]
  },
  {
   "cell_type": "code",
   "execution_count": 5,
   "metadata": {},
   "outputs": [
    {
     "name": "stdout",
     "output_type": "stream",
     "text": [
      "128171\n"
     ]
    },
    {
     "name": "stderr",
     "output_type": "stream",
     "text": [
      "100%|█████████████████████████████████████████████████████████████████████████| 128171/128171 [04:56<00:00, 432.96it/s]\n"
     ]
    }
   ],
   "source": [
    "#spectra.mgf to word2vec embeddings vectors\n",
    "spectrums=filter_spectrums\n",
    "print(len(spectrums))\n",
    "model_file =\"references _word2vec.model\"\n",
    "        # Load pretrained model (here dummy model)\n",
    "model = gensim.models.Word2Vec.load(model_file)\n",
    "spectovec = spec_to_wordvector(model=model, intensity_weighting_power=0.5)\n",
    "word2vectors=[]\n",
    "word_smiles=[]\n",
    "spectrums = [s for s in spectrums if s is not None]\n",
    "for i in tqdm(range(len(spectrums))):\n",
    "    spectrum_in = spec.SpectrumDocument(spectrums[i], n_decimals=0)\n",
    "    vetors=spectovec._calculate_embedding(spectrum_in)\n",
    "    word_smiles.append(spectrum_in.metadata['smiles'])\n",
    "    word2vectors.append(vetors)\n",
    "np.save(\"collected_compounds_smiles.npy\", word_smiles)\n",
    "from scipy.sparse import csr_matrix, save_npz\n",
    "word_vec=csr_matrix(np.array(word2vectors))\n",
    "save_npz('collected_compounds_word_embeddings.npz', word_vec)"
   ]
  },
  {
   "cell_type": "code",
   "execution_count": 6,
   "metadata": {},
   "outputs": [
    {
     "name": "stdout",
     "output_type": "stream",
     "text": [
      "add_time 915.9868\n",
      "saveindex_time 6.4382\n",
      "Parameters passed to constructor:  space=l2, dim=500\n",
      "Index construction: M=64, ef_construction=800\n",
      "Index size is 128171 and index capacity is 128171\n"
     ]
    }
   ],
   "source": [
    "#build HNSW index\n",
    "from scipy.sparse import load_npz\n",
    "import time\n",
    "import hnswlib\n",
    "import pickle\n",
    "xb= load_npz('collected_compounds_word_embeddings.npz').todense().astype('float32')\n",
    "xb_len =  np.linalg.norm(xb, axis=1, keepdims=True)\n",
    "xb = xb/xb_len\n",
    "dim = 500\n",
    "num_elements =len(xb)\n",
    "ids = np.arange(num_elements)\n",
    "# Declaring index\n",
    "p = hnswlib.Index(space = 'l2', dim = dim) # possible options are l2, cosine or ip\n",
    "# Initializing index - the maximum number of elements should be known beforehand\n",
    "p.init_index(max_elements = num_elements, ef_construction = 800, M = 64)\n",
    "import time\n",
    "start_time=time.time()*1000\n",
    "# Element insertion \n",
    "p.add_items(xb, ids)\n",
    "# Controlling the recall by setting ef:\n",
    "p.set_ef(300) # ef should always be > k   ##\n",
    "end_time=time.time()*1000\n",
    "print('add_time %.4f'%((end_time-start_time)/100))\n",
    "\n",
    "\n",
    "start_time=time.time()*1000\n",
    "p.save_index('references_index.bin')\n",
    "end_time=time.time()*1000\n",
    "print('saveindex_time %.4f'%((end_time-start_time)/100))\n",
    "# Index objects support pickling\n",
    "p_copy = pickle.loads(pickle.dumps(p)) # creates a copy of index p using pickle round-trip\n",
    "### Index parameters are exposed as class properties:\n",
    "print(f\"Parameters passed to constructor:  space={p_copy.space}, dim={p_copy.dim}\") \n",
    "print(f\"Index construction: M={p_copy.M}, ef_construction={p_copy.ef_construction}\")\n",
    "print(f\"Index size is {p_copy.element_count} and index capacity is {p_copy.max_elements}\")\n"
   ]
  },
  {
   "cell_type": "code",
   "execution_count": null,
   "metadata": {},
   "outputs": [],
   "source": []
  }
 ],
 "metadata": {
  "kernelspec": {
   "display_name": "Python 3",
   "language": "python",
   "name": "python3"
  },
  "language_info": {
   "codemirror_mode": {
    "name": "ipython",
    "version": 3
   },
   "file_extension": ".py",
   "mimetype": "text/x-python",
   "name": "python",
   "nbconvert_exporter": "python",
   "pygments_lexer": "ipython3",
   "version": "3.7.6"
  }
 },
 "nbformat": 4,
 "nbformat_minor": 4
}
